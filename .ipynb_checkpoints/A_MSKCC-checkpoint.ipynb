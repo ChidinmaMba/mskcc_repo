{
 "cells": [
  {
   "cell_type": "code",
   "execution_count": 24,
   "id": "ef2d7cab",
   "metadata": {},
   "outputs": [],
   "source": [
    "import numpy as np\n",
    "import matplotlib.pyplot as plt\n",
    "import staintools as staintools\n",
    "\n",
    "import os\n",
    "from os import listdir\n",
    "from os.path import isfile, join\n",
    "\n",
    "import datetime"
   ]
  },
  {
   "cell_type": "code",
   "execution_count": 25,
   "id": "50defd50",
   "metadata": {},
   "outputs": [],
   "source": [
    "# normalization of test data (training data already normalized)\n",
    "# read data\n",
    "\n",
    "testing_imgs_path = \"./MoNuSegDataset_TechAIChallenge/MoNuSegTestData/Tissue Images\"\n",
    "img_names_to_transform = [f for f in listdir(testing_imgs_path) if isfile(join(testing_imgs_path, f))]\n",
    "\n",
    "imgs_to_transform = [staintools.read_image(testing_imgs_path+\"/\"+img_name) for img_name in img_names_to_transform]"
   ]
  },
  {
   "cell_type": "code",
   "execution_count": 26,
   "id": "a65f3e06",
   "metadata": {},
   "outputs": [],
   "source": [
    "# Standardize brightness (optional, can improve the tissue mask calculation)\n",
    "imgs_to_transform = list(map(staintools.LuminosityStandardizer.standardize, imgs_to_transform))"
   ]
  },
  {
   "cell_type": "code",
   "execution_count": 27,
   "id": "5f275929",
   "metadata": {},
   "outputs": [],
   "source": [
    "# Stain normalize\n",
    "target = imgs_to_transform.pop()\n",
    "normalizer = staintools.StainNormalizer(method='vahadane')\n",
    "normalizer.fit(target)\n",
    "transformed_imgs = list(map(normalizer.transform,imgs_to_transform))"
   ]
  },
  {
   "cell_type": "code",
   "execution_count": 29,
   "id": "73db3e76",
   "metadata": {},
   "outputs": [
    {
     "ename": "NameError",
     "evalue": "name 'os' is not defined",
     "output_type": "error",
     "traceback": [
      "\u001b[0;31m---------------------------------------------------------------------------\u001b[0m",
      "\u001b[0;31mNameError\u001b[0m                                 Traceback (most recent call last)",
      "Cell \u001b[0;32mIn [29], line 6\u001b[0m\n\u001b[1;32m      3\u001b[0m STANDARDIZE_BRIGHTNESS \u001b[38;5;241m=\u001b[39m \u001b[38;5;28;01mTrue\u001b[39;00m\n\u001b[1;32m      4\u001b[0m RESULTS_DIR \u001b[38;5;241m=\u001b[39m \u001b[38;5;124m'\u001b[39m\u001b[38;5;124m./str(datetime.datetime.now())\u001b[39m\u001b[38;5;124m'\u001b[39m \u001b[38;5;241m+\u001b[39m \u001b[38;5;124m'\u001b[39m\u001b[38;5;124m/\u001b[39m\u001b[38;5;124m'\u001b[39m\n\u001b[0;32m----> 6\u001b[0m \u001b[43mos\u001b[49m\u001b[38;5;241m.\u001b[39mmkdir(RESULTS_DIR)\n\u001b[1;32m      9\u001b[0m image \u001b[38;5;241m=\u001b[39m [target] \u001b[38;5;241m+\u001b[39m transformed_imgs\n\u001b[1;32m     10\u001b[0m title \u001b[38;5;241m=\u001b[39m [\u001b[38;5;124m\"\u001b[39m\u001b[38;5;124mtarget\u001b[39m\u001b[38;5;124m\"\u001b[39m]\u001b[38;5;241m+\u001b[39m[\u001b[38;5;124m'\u001b[39m\u001b[38;5;124mnormalized\u001b[39m\u001b[38;5;124m'\u001b[39m]\u001b[38;5;241m*\u001b[39m\u001b[38;5;241m15\u001b[39m\n",
      "\u001b[0;31mNameError\u001b[0m: name 'os' is not defined"
     ]
    }
   ],
   "source": [
    "# Set up\n",
    "METHOD = 'vahadane'\n",
    "STANDARDIZE_BRIGHTNESS = True\n",
    "RESULTS_DIR = './str(datetime.datetime.now())' + '/'\n",
    "\n",
    "os.mkdir(RESULTS_DIR)\n",
    "\n",
    "\n",
    "image = [target] + transformed_imgs\n",
    "title = [\"target\"]+['normalized']*15\n",
    "staintools.plot_image_list(image,width=5,title_list=title)"
   ]
  },
  {
   "cell_type": "code",
   "execution_count": 53,
   "id": "36dcd883",
   "metadata": {},
   "outputs": [],
   "source": [
    "from PIL import Image\n",
    "\n",
    "for i in range(1,16):\n",
    "    im= Image.fromarray(image[i])\n",
    "    name = \"i\"+str(i)+\"_n.tiff\"\n",
    "    name_str = str(name)\n",
    "    im.save(\"/Users/sunsimeng/Desktop/NormalizedTestImg/\"+name_str)\n",
    "        \n",
    "        \n",
    "        \n"
   ]
  },
  {
   "cell_type": "code",
   "execution_count": null,
   "id": "66d1c809",
   "metadata": {},
   "outputs": [],
   "source": []
  }
 ],
 "metadata": {
  "kernelspec": {
   "display_name": "Python 3 (ipykernel)",
   "language": "python",
   "name": "python3"
  },
  "language_info": {
   "codemirror_mode": {
    "name": "ipython",
    "version": 3
   },
   "file_extension": ".py",
   "mimetype": "text/x-python",
   "name": "python",
   "nbconvert_exporter": "python",
   "pygments_lexer": "ipython3",
   "version": "3.10.6"
  }
 },
 "nbformat": 4,
 "nbformat_minor": 5
}
